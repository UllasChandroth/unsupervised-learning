{
  "nbformat": 4,
  "nbformat_minor": 0,
  "metadata": {
    "colab": {
      "provenance": [],
      "toc_visible": true
    },
    "kernelspec": {
      "name": "python3",
      "display_name": "Python 3"
    },
    "language_info": {
      "name": "python"
    }
  },
  "cells": [
    {
      "cell_type": "code",
      "execution_count": 3,
      "metadata": {
        "id": "0_TgW4_KIDTG"
      },
      "outputs": [],
      "source": [
        "import pandas as pd\n",
        "import numpy as np\n",
        "from sklearn.cluster import KMeans, AgglomerativeClustering, DBSCAN\n",
        "from sklearn.preprocessing import StandardScaler\n",
        "\n",
        "# Load the dataset\n",
        "df = pd.read_csv(\"/content/Wine_clust .csv\")\n"
      ]
    },
    {
      "cell_type": "code",
      "source": [
        "# Explore the dataset\n",
        "print(df.head())\n",
        "print(df.shape)\n"
      ],
      "metadata": {
        "colab": {
          "base_uri": "https://localhost:8080/"
        },
        "id": "Dja0G-f5IeEi",
        "outputId": "af94d9c7-b8fa-4103-d360-f77d301354c3"
      },
      "execution_count": 4,
      "outputs": [
        {
          "output_type": "stream",
          "name": "stdout",
          "text": [
            "   Alcohol  Malic_Acid   Ash  Ash_Alcanity  Magnesium  Total_Phenols  \\\n",
            "0    14.23        1.71  2.43          15.6        127           2.80   \n",
            "1    13.20        1.78  2.14          11.2        100           2.65   \n",
            "2    13.16        2.36  2.67          18.6        101           2.80   \n",
            "3    14.37        1.95  2.50          16.8        113           3.85   \n",
            "4    13.24        2.59  2.87          21.0        118           2.80   \n",
            "\n",
            "   Flavanoids  Nonflavanoid_Phenols  Proanthocyanins  Color_Intensity   Hue  \\\n",
            "0        3.06                  0.28             2.29             5.64  1.04   \n",
            "1        2.76                  0.26             1.28             4.38  1.05   \n",
            "2        3.24                  0.30             2.81             5.68  1.03   \n",
            "3        3.49                  0.24             2.18             7.80  0.86   \n",
            "4        2.69                  0.39             1.82             4.32  1.04   \n",
            "\n",
            "   OD280  Proline  \n",
            "0   3.92     1065  \n",
            "1   3.40     1050  \n",
            "2   3.17     1185  \n",
            "3   3.45     1480  \n",
            "4   2.93      735  \n",
            "(178, 13)\n"
          ]
        }
      ]
    },
    {
      "cell_type": "code",
      "source": [],
      "metadata": {
        "id": "yM24oBsCIbqv"
      },
      "execution_count": 4,
      "outputs": []
    }
  ]
}